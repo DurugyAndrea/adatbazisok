{
    "metadata": {
        "kernelspec": {
            "name": "SQL",
            "display_name": "SQL",
            "language": "sql"
        },
        "language_info": {
            "name": "sql",
            "version": ""
        }
    },
    "nbformat_minor": 2,
    "nbformat": 4,
    "cells": [
        {
            "cell_type": "code",
            "source": [
                "---családok vizsgálata a gyerekek számának függvényében\r\n",
                "\r\n",
                "select csaladok, count(*) as 'darab'\r\n",
                "FROM\r\n",
                "(select case\r\n",
                "when gyermek_szam = 0 then 'nincs gyerek'\r\n",
                "when gyermek_szam = 1 then 'egy gyerekes'\r\n",
                "when gyermek_szam > 1 then 'több gyerekes'\r\n",
                "end as csaladok\r\n",
                "from Foglalas) as sorok\r\n",
                "group by csaladok\r\n",
                "order by count(*)"
            ],
            "metadata": {
                "azdata_cell_guid": "8623d589-f3a5-4a4c-9413-09e2b9b2031a",
                "language": "sql"
            },
            "outputs": [
                {
                    "output_type": "display_data",
                    "data": {
                        "text/html": "(3 rows affected)"
                    },
                    "metadata": {}
                },
                {
                    "output_type": "display_data",
                    "data": {
                        "text/html": "Total execution time: 00:00:00.010"
                    },
                    "metadata": {}
                },
                {
                    "output_type": "execute_result",
                    "execution_count": 11,
                    "data": {
                        "application/vnd.dataresource+json": {
                            "schema": {
                                "fields": [
                                    {
                                        "name": "csaladok"
                                    },
                                    {
                                        "name": "darab"
                                    }
                                ]
                            },
                            "data": [
                                {
                                    "csaladok": "több gyerekes",
                                    "darab": "182"
                                },
                                {
                                    "csaladok": "egy gyerekes",
                                    "darab": "352"
                                },
                                {
                                    "csaladok": "nincs gyerek",
                                    "darab": "493"
                                }
                            ]
                        },
                        "text/html": "<table><tr><th>csaladok</th><th>darab</th></tr><tr><td>több gyerekes</td><td>182</td></tr><tr><td>egy gyerekes</td><td>352</td></tr><tr><td>nincs gyerek</td><td>493</td></tr></table>"
                    },
                    "metadata": {
                        "azdata_chartOptions": {
                            "type": "bar",
                            "dataDirection": "horizontal",
                            "columnsAsLabels": true,
                            "labelFirstColumn": true,
                            "legendPosition": "bottom",
                            "yAxisLabel": "Családok száma",
                            "yAxisMin": 0,
                            "xAxisLabel": "Gyerekek száma",
                            "dataType": "number",
                            "encoding": "hex",
                            "imageFormat": "jpeg"
                        }
                    }
                }
            ],
            "execution_count": 11
        },
        {
            "cell_type": "code",
            "source": [
                "select tipus, count(*) from szallashely\r\n",
                "group by tipus"
            ],
            "metadata": {
                "azdata_cell_guid": "eef1edc7-ab1d-473b-b99c-d79affe400b6",
                "language": "sql",
                "tags": []
            },
            "outputs": [
                {
                    "output_type": "display_data",
                    "data": {
                        "text/html": "(5 rows affected)"
                    },
                    "metadata": {}
                },
                {
                    "output_type": "display_data",
                    "data": {
                        "text/html": "Total execution time: 00:00:00.007"
                    },
                    "metadata": {}
                },
                {
                    "output_type": "execute_result",
                    "execution_count": 29,
                    "data": {
                        "application/vnd.dataresource+json": {
                            "schema": {
                                "fields": [
                                    {
                                        "name": "tipus"
                                    },
                                    {
                                        "name": "(No column name)"
                                    }
                                ]
                            },
                            "data": [
                                {
                                    "tipus": "Apartman",
                                    "(No column name)": "3"
                                },
                                {
                                    "tipus": "Diákszálló",
                                    "(No column name)": "1"
                                },
                                {
                                    "tipus": "Hotel",
                                    "(No column name)": "6"
                                },
                                {
                                    "tipus": "panzió",
                                    "(No column name)": "5"
                                },
                                {
                                    "tipus": "vendégház",
                                    "(No column name)": "6"
                                }
                            ]
                        },
                        "text/html": "<table><tr><th>tipus</th><th>(No column name)</th></tr><tr><td>Apartman</td><td>3</td></tr><tr><td>Diákszálló</td><td>1</td></tr><tr><td>Hotel</td><td>6</td></tr><tr><td>panzió</td><td>5</td></tr><tr><td>vendégház</td><td>6</td></tr></table>"
                    },
                    "metadata": {
                        "azdata_chartOptions": {
                            "type": "doughnut",
                            "dataDirection": "vertical",
                            "columnsAsLabels": true,
                            "labelFirstColumn": false,
                            "legendPosition": "top"
                        }
                    }
                }
            ],
            "execution_count": 29
        },
        {
            "cell_type": "code",
            "source": [
                "(select cast(round((\r\n",
                "(select cast(count(*) as float)\r\n",
                "from Szoba\r\n",
                "where klimas = 'i')\r\n",
                "/\r\n",
                "(select cast(count(*) as float)\r\n",
                "from Szoba)),3) * 100 as varchar) + '%' as 'klímás szobák aránya')"
            ],
            "metadata": {
                "azdata_cell_guid": "6318e5aa-2714-4c63-b2f7-b660472bd6c2",
                "language": "sql"
            },
            "outputs": [
                {
                    "output_type": "display_data",
                    "data": {
                        "text/html": "(1 row affected)"
                    },
                    "metadata": {}
                },
                {
                    "output_type": "display_data",
                    "data": {
                        "text/html": "Total execution time: 00:00:00.008"
                    },
                    "metadata": {}
                },
                {
                    "output_type": "execute_result",
                    "execution_count": 104,
                    "data": {
                        "application/vnd.dataresource+json": {
                            "schema": {
                                "fields": [
                                    {
                                        "name": "klímás szobák aránya"
                                    }
                                ]
                            },
                            "data": [
                                {
                                    "klímás szobák aránya": "73.1%"
                                }
                            ]
                        },
                        "text/html": "<table><tr><th>klímás szobák aránya</th></tr><tr><td>73.1%</td></tr></table>"
                    },
                    "metadata": {}
                }
            ],
            "execution_count": 104
        },
        {
            "cell_type": "code",
            "source": [
                "select korcsoport, count(*) as 'darab'\r\n",
                "from\r\n",
                "(select szul_dat, case\r\n",
                "when datediff(year, SZUL_DAT, GETDATE()) < 36 then 'fiatal felnőtt'\r\n",
                "when datediff(year, SZUL_DAT, GETDATE()) between 35 and 49 then 'felnőtt'\r\n",
                "when datediff(year, SZUL_DAT, GETDATE()) > 49 then 'időskorú'\r\n",
                "end as korcsoport\r\n",
                "from Vendeg) as eletkoreloszlas\r\n",
                "group by korcsoport\r\n",
                "order by count(*)\r\n",
                ""
            ],
            "metadata": {
                "azdata_cell_guid": "bf8728da-9916-4752-aba2-33c766c0d359",
                "language": "sql",
                "tags": []
            },
            "outputs": [
                {
                    "output_type": "display_data",
                    "data": {
                        "text/html": "(3 rows affected)"
                    },
                    "metadata": {}
                },
                {
                    "output_type": "display_data",
                    "data": {
                        "text/html": "Total execution time: 00:00:00.010"
                    },
                    "metadata": {}
                },
                {
                    "output_type": "execute_result",
                    "execution_count": 98,
                    "data": {
                        "application/vnd.dataresource+json": {
                            "schema": {
                                "fields": [
                                    {
                                        "name": "korcsoport"
                                    },
                                    {
                                        "name": "darab"
                                    }
                                ]
                            },
                            "data": [
                                {
                                    "korcsoport": "fiatal felnőtt",
                                    "darab": "52"
                                },
                                {
                                    "korcsoport": "időskorú",
                                    "darab": "54"
                                },
                                {
                                    "korcsoport": "felnőtt",
                                    "darab": "90"
                                }
                            ]
                        },
                        "text/html": "<table><tr><th>korcsoport</th><th>darab</th></tr><tr><td>fiatal felnőtt</td><td>52</td></tr><tr><td>időskorú</td><td>54</td></tr><tr><td>felnőtt</td><td>90</td></tr></table>"
                    },
                    "metadata": {
                        "azdata_chartOptions": {
                            "type": "horizontalBar",
                            "dataDirection": "vertical",
                            "columnsAsLabels": true,
                            "labelFirstColumn": false,
                            "legendPosition": "none",
                            "yAxisLabel": "korcsoport",
                            "xAxisLabel": "darabszám",
                            "xAxisMin": 0,
                            "xAxisMax": 100
                        }
                    }
                }
            ],
            "execution_count": 98
        }
    ]
}