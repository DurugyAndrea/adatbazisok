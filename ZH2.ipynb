{
    "metadata": {
        "kernelspec": {
            "name": "SQL",
            "display_name": "SQL",
            "language": "sql"
        },
        "language_info": {
            "name": "sql",
            "version": ""
        }
    },
    "nbformat_minor": 2,
    "nbformat": 4,
    "cells": [
        {
            "cell_type": "code",
            "source": [
                "SELECT TIPUS, HELY, ROUND(AVG(CSILLAGOK_SZAMA), 2) AS 'CSILLAGOK ATLAGA'\r\n",
                "FROM SZALLASHELY\r\n",
                "GROUP BY\r\n",
                "GROUPING SETS((TIPUS), (HELY))"
            ],
            "metadata": {
                "azdata_cell_guid": "f4fc0ca1-ce4f-4eb2-9d35-42a8f7cb03fc",
                "language": "sql"
            },
            "outputs": [
                {
                    "output_type": "display_data",
                    "data": {
                        "text/html": "(14 rows affected)"
                    },
                    "metadata": {}
                },
                {
                    "output_type": "display_data",
                    "data": {
                        "text/html": "Total execution time: 00:00:00.011"
                    },
                    "metadata": {}
                },
                {
                    "output_type": "execute_result",
                    "execution_count": 4,
                    "data": {
                        "application/vnd.dataresource+json": {
                            "schema": {
                                "fields": [
                                    {
                                        "name": "TIPUS"
                                    },
                                    {
                                        "name": "HELY"
                                    },
                                    {
                                        "name": "CSILLAGOK ATLAGA"
                                    }
                                ]
                            },
                            "data": [
                                {
                                    "TIPUS": "NULL",
                                    "HELY": "Balaton-dél",
                                    "CSILLAGOK ATLAGA": "1"
                                },
                                {
                                    "TIPUS": "NULL",
                                    "HELY": "Balaton-észak",
                                    "CSILLAGOK ATLAGA": "0"
                                },
                                {
                                    "TIPUS": "NULL",
                                    "HELY": "Békés megye",
                                    "CSILLAGOK ATLAGA": "3"
                                },
                                {
                                    "TIPUS": "NULL",
                                    "HELY": "Budapest",
                                    "CSILLAGOK ATLAGA": "2"
                                },
                                {
                                    "TIPUS": "NULL",
                                    "HELY": "Csongrád megye",
                                    "CSILLAGOK ATLAGA": "1"
                                },
                                {
                                    "TIPUS": "NULL",
                                    "HELY": "Dél-Somogy",
                                    "CSILLAGOK ATLAGA": "0"
                                },
                                {
                                    "TIPUS": "NULL",
                                    "HELY": "Hajdúbihar megye",
                                    "CSILLAGOK ATLAGA": "0"
                                },
                                {
                                    "TIPUS": "NULL",
                                    "HELY": "Pest megye",
                                    "CSILLAGOK ATLAGA": "3"
                                },
                                {
                                    "TIPUS": "NULL",
                                    "HELY": "Tolna megye",
                                    "CSILLAGOK ATLAGA": "4"
                                },
                                {
                                    "TIPUS": "Apartman",
                                    "HELY": "NULL",
                                    "CSILLAGOK ATLAGA": "0"
                                },
                                {
                                    "TIPUS": "Diákszálló",
                                    "HELY": "NULL",
                                    "CSILLAGOK ATLAGA": "0"
                                },
                                {
                                    "TIPUS": "Hotel",
                                    "HELY": "NULL",
                                    "CSILLAGOK ATLAGA": "3"
                                },
                                {
                                    "TIPUS": "panzió",
                                    "HELY": "NULL",
                                    "CSILLAGOK ATLAGA": "3"
                                },
                                {
                                    "TIPUS": "vendégház",
                                    "HELY": "NULL",
                                    "CSILLAGOK ATLAGA": "0"
                                }
                            ]
                        },
                        "text/html": "<table><tr><th>TIPUS</th><th>HELY</th><th>CSILLAGOK ATLAGA</th></tr><tr><td>NULL</td><td>Balaton-dél</td><td>1</td></tr><tr><td>NULL</td><td>Balaton-észak</td><td>0</td></tr><tr><td>NULL</td><td>Békés megye</td><td>3</td></tr><tr><td>NULL</td><td>Budapest</td><td>2</td></tr><tr><td>NULL</td><td>Csongrád megye</td><td>1</td></tr><tr><td>NULL</td><td>Dél-Somogy</td><td>0</td></tr><tr><td>NULL</td><td>Hajdúbihar megye</td><td>0</td></tr><tr><td>NULL</td><td>Pest megye</td><td>3</td></tr><tr><td>NULL</td><td>Tolna megye</td><td>4</td></tr><tr><td>Apartman</td><td>NULL</td><td>0</td></tr><tr><td>Diákszálló</td><td>NULL</td><td>0</td></tr><tr><td>Hotel</td><td>NULL</td><td>3</td></tr><tr><td>panzió</td><td>NULL</td><td>3</td></tr><tr><td>vendégház</td><td>NULL</td><td>0</td></tr></table>"
                    },
                    "metadata": {}
                }
            ],
            "execution_count": 4
        },
        {
            "cell_type": "code",
            "source": [
                "SELECT DISTINCT SZH.SZALLAS_NEV, FIRST_VALUE(F.FELNOTT_SZAM + F.GYERMEK_SZAM)\r\n",
                "OVER (PARTITION BY SZH.SZALLAS_NEV ORDER BY SZH.SZALLAS_NEV)\r\n",
                "AS 'FOGLALAS'\r\n",
                "FROM SZOBA SZ JOIN FOGLALAS F ON F.SZOBA_FK = SZ.SZOBA_ID\r\n",
                "    JOIN Szallashely SZH ON SZ.SZALLAS_FK = SZH.SZALLAS_ID\r\n",
                "\r\n",
                ""
            ],
            "metadata": {
                "azdata_cell_guid": "c2124221-39d0-48c2-ab7a-8c760831b379",
                "language": "sql",
                "tags": []
            },
            "outputs": [
                {
                    "output_type": "display_data",
                    "data": {
                        "text/html": "(11 rows affected)"
                    },
                    "metadata": {}
                },
                {
                    "output_type": "display_data",
                    "data": {
                        "text/html": "Total execution time: 00:00:00.033"
                    },
                    "metadata": {}
                },
                {
                    "output_type": "execute_result",
                    "execution_count": 22,
                    "data": {
                        "application/vnd.dataresource+json": {
                            "schema": {
                                "fields": [
                                    {
                                        "name": "SZALLAS_NEV"
                                    },
                                    {
                                        "name": "FOGLALAS"
                                    }
                                ]
                            },
                            "data": [
                                {
                                    "SZALLAS_NEV": "Családi Ház",
                                    "FOGLALAS": "4"
                                },
                                {
                                    "SZALLAS_NEV": "Fortuna Apartman",
                                    "FOGLALAS": "3"
                                },
                                {
                                    "SZALLAS_NEV": "Fortuna panzió",
                                    "FOGLALAS": "3"
                                },
                                {
                                    "SZALLAS_NEV": "Gold Hotel",
                                    "FOGLALAS": "1"
                                },
                                {
                                    "SZALLAS_NEV": "Hotel Három Hattyú",
                                    "FOGLALAS": "2"
                                },
                                {
                                    "SZALLAS_NEV": "Jáde panzió",
                                    "FOGLALAS": "2"
                                },
                                {
                                    "SZALLAS_NEV": "Kentaur Hotel",
                                    "FOGLALAS": "2"
                                },
                                {
                                    "SZALLAS_NEV": "Lagúna Hotel",
                                    "FOGLALAS": "1"
                                },
                                {
                                    "SZALLAS_NEV": "Partiszél Vendégház",
                                    "FOGLALAS": "2"
                                },
                                {
                                    "SZALLAS_NEV": "Sába-Ház",
                                    "FOGLALAS": "2"
                                },
                                {
                                    "SZALLAS_NEV": "Szieszta Apartmanház",
                                    "FOGLALAS": "3"
                                }
                            ]
                        },
                        "text/html": "<table><tr><th>SZALLAS_NEV</th><th>FOGLALAS</th></tr><tr><td>Családi Ház</td><td>4</td></tr><tr><td>Fortuna Apartman</td><td>3</td></tr><tr><td>Fortuna panzió</td><td>3</td></tr><tr><td>Gold Hotel</td><td>1</td></tr><tr><td>Hotel Három Hattyú</td><td>2</td></tr><tr><td>Jáde panzió</td><td>2</td></tr><tr><td>Kentaur Hotel</td><td>2</td></tr><tr><td>Lagúna Hotel</td><td>1</td></tr><tr><td>Partiszél Vendégház</td><td>2</td></tr><tr><td>Sába-Ház</td><td>2</td></tr><tr><td>Szieszta Apartmanház</td><td>3</td></tr></table>"
                    },
                    "metadata": {}
                }
            ],
            "execution_count": 22
        }
    ]
}